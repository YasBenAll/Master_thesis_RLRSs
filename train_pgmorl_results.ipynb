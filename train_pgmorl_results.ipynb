{
 "cells": [
  {
   "cell_type": "code",
   "execution_count": 2,
   "metadata": {},
   "outputs": [],
   "source": [
    "import argparse\n",
    "import csv\n",
    "import datetime\n",
    "import gymnasium as gym\n",
    "import matplotlib.pyplot as plt\n",
    "import numpy as np\n",
    "import os\n",
    "import pandas as pd\n",
    "import pickle\n",
    "import re\n",
    "import sardine\n",
    "import torch\n",
    "\n",
    "from agents.wrappers import IdealState\n",
    "from pymoo.indicators.hv import HV\n",
    "from distutils.util import strtobool"
   ]
  },
  {
   "cell_type": "code",
   "execution_count": 29,
   "metadata": {},
   "outputs": [
    {
     "name": "stdout",
     "output_type": "stream",
     "text": [
      "mosac_agent-0,,sardine/SlateTopK-Bored-v0,3,100,clicks,9.0,,52.56134796142578,,0.34,\n",
      "mosac_agent-1,,sardine/SlateTopK-Bored-v0,3,100,clicks,9.800000190734863,,52.34522247314453,,0.34400000000000003,\n"
     ]
    }
   ],
   "source": [
    "# for file in os.listdir(\"data/morl\"):\n",
    "#     file_eval = False\n",
    "#     if \"misc\" not in file:\n",
    "#         if \"evaluations\" in file:\n",
    "#             file_eval = True\n",
    "#         if file_eval:\n",
    "#             with open(os.path.join(\"data\", \"morl\",file), \"rb\") as f:\n",
    "#                 evaluations = pickle.load(f)\n",
    "#             print(file, evaluations)\n",
    "#         if \"catalog\" in file:\n",
    "#             with open(os.path.join(\"data\", \"morl\",file), \"rb\") as f:\n",
    "#                 catalog = pickle.load(f)\n",
    "#             print(file, catalog)\n",
    "\n",
    "\n",
    "num_items = \n",
    "file_eval = os.path.join(\"data\", \"morl\",\"pareto-archive-mosac-slatesize-3-numitems100-timesteps100-rankertopk-envsardine-SlateTopK-Bored-v0-evaluations.pkl\")\n",
    "file_catalog = os.path.join(\"data\", \"morl\",\"pareto-archive-mosac-slatesize-3-numitems100-timesteps100-rankertopk-envsardine-SlateTopK-Bored-v0_catalog_coverage.pkl\")\n",
    "\n",
    "\n",
    "with open(file_eval, \"rb\") as f:\n",
    "    evaluations = pickle.load(f)\n",
    "    \n",
    "with open(file_catalog, \"rb\") as f:\n",
    "    catalog = pickle.load(f)\n",
    "\n",
    "# print(evaluations)\n",
    "# print(catalog)\n",
    "\n",
    "import re \n",
    "num_items = re.search('numitems(\\d+)', file_eval).group(1)\n",
    "slate_size = re.search('slatesize-(\\d+)', file_eval).group(1)\n",
    "for i, j in enumerate(zip(evaluations, catalog)):\n",
    "    clicks = j[0][0]\n",
    "    diversity = j[0][1]\n",
    "    coverage = j[1]\n",
    "    print(f\"mosac_agent-{i},,sardine/SlateTopK-Bored-v0,{slate_size},{num_items},clicks,{clicks},,{diversity},,{coverage},\")"
   ]
  },
  {
   "cell_type": "code",
   "execution_count": null,
   "metadata": {},
   "outputs": [],
   "source": [
    "# Adjusting the parsing logic to handle spaces and formatting issues correctly\n",
    "import re\n",
    "\n",
    "pareto_front_evaluations = []\n",
    "catalog_coverages = []\n",
    "\n",
    "# Regular expression to match array contents\n",
    "array_pattern = re.compile(r'array\\(\\[(.*?),(.*?)\\]')\n",
    "\n",
    "\n",
    "\n",
    "\n",
    "\n",
    "# Displaying the dataframe to the user\n",
    "tools.display_dataframe_to_user(name=\"Agent Data\", dataframe=df_agent_data)\n"
   ]
  },
  {
   "cell_type": "code",
   "execution_count": null,
   "metadata": {},
   "outputs": [],
   "source": []
  }
 ],
 "metadata": {
  "kernelspec": {
   "display_name": "Python 3.10.11 ('venv': venv)",
   "language": "python",
   "name": "python3"
  },
  "language_info": {
   "codemirror_mode": {
    "name": "ipython",
    "version": 3
   },
   "file_extension": ".py",
   "mimetype": "text/x-python",
   "name": "python",
   "nbconvert_exporter": "python",
   "pygments_lexer": "ipython3",
   "version": "3.10.11"
  },
  "orig_nbformat": 4,
  "vscode": {
   "interpreter": {
    "hash": "5195411649f2679d763fd43db6617e723a6737006ff547e09f9aa32e0c7c7803"
   }
  }
 },
 "nbformat": 4,
 "nbformat_minor": 2
}
