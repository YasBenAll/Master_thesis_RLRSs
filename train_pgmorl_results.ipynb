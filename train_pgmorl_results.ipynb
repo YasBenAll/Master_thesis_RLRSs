{
 "cells": [
  {
   "cell_type": "code",
   "execution_count": 7,
   "metadata": {},
   "outputs": [],
   "source": [
    "import argparse\n",
    "import csv\n",
    "import datetime\n",
    "import gymnasium as gym\n",
    "import matplotlib.pyplot as plt\n",
    "import numpy as np\n",
    "import os\n",
    "import pandas as pd\n",
    "import pickle\n",
    "import re\n",
    "import sardine\n",
    "import torch\n",
    "\n",
    "from agents.wrappers import IdealState\n",
    "from pymoo.indicators.hv import HV\n",
    "from distutils.util import strtobool"
   ]
  },
  {
   "cell_type": "code",
   "execution_count": 24,
   "metadata": {},
   "outputs": [
    {
     "name": "stdout",
     "output_type": "stream",
     "text": [
      "[array([ 9.      , 52.561348], dtype=float32), array([ 9.8     , 52.345222], dtype=float32)]\n",
      "[0.34, 0.34400000000000003]\n"
     ]
    }
   ],
   "source": [
    "file_eval = os.path.join(\"data\", \"morl\",\"pareto-archive-mosac-slatesize-3-numitems100-timesteps100-rankertopk-envsardine-SlateTopK-Bored-v0-evaluations.pkl\")\n",
    "file_catalog = os.path.join(\"data\", \"morl\",\"pareto-archive-mosac-slatesize-3-numitems100-timesteps100-rankertopk-envsardine-SlateTopK-Bored-v0_catalog_coverage.pkl\")\n",
    "\n",
    "with open(file_eval, \"rb\") as f:\n",
    "    evaluations = pickle.load(f)\n",
    "\n",
    "with open(file_catalog, \"rb\") as f:\n",
    "    catalog = pickle.load(f)\n",
    "\n",
    "print(evaluations)\n",
    "print(catalog)"
   ]
  },
  {
   "cell_type": "code",
   "execution_count": 25,
   "metadata": {},
   "outputs": [
    {
     "name": "stdout",
     "output_type": "stream",
     "text": [
      "['Training PGMORL using mosac on sardine/SlateTopK-Bored-v0 with 100.0 timesteps. random = False, observable = True, ranker = topk, decoder = SlateTopKBoredv0numitem100slatesize3_oracle_epsilon0.5_seed2023_n_users100000.ptkl_divergence1.0_lambda_click0.5_latentdim16.pt\\n', 'Training time: 1.1 minutes\\n', ' Pareto front evaluations: [array([ 9.      , 52.561348], dtype=float32), array([ 9.8     , 52.345222], dtype=float32)]\\n', ' Catalog Coverages: [0.34, 0.34400000000000003]']\n"
     ]
    }
   ],
   "source": [
    "with open(os.path.join(\"logs\", \"morl\", \"pgmorl-topk-slatesize3-num-items3-seed20232024-10-14-17-10-32-047601_train.log\"), \"r\") as f:\n",
    "    text = f.readlines()\n",
    "    # Regular expression to match array contents\n",
    "    array_pattern = re.compile(r'array\\(\\[(.*?),(.*?)\\]')\n",
    "\n",
    "    pareto_front_evaluations = []\n",
    "    catalog_coverages = []\n",
    "    for line in text:\n",
    "        if \"Pareto front evaluations\" in line:\n",
    "            # Extracting arrays from the log content using regex\n",
    "            matches = array_pattern.findall(line)\n",
    "            for match in matches:\n",
    "                clicks = float(match[0].strip())\n",
    "                diversity = float(match[1].strip())\n",
    "                pareto_front_evaluations.append((clicks, diversity))\n",
    "        elif \"Catalog Coverages\" in line:\n",
    "            # Extracting catalog coverages\n",
    "            coverage_str = line.split(':')[1].strip().strip('[]')\n",
    "            catalog_coverages = [float(cov) for cov in coverage_str.split(',')]\n",
    "\n",
    "    # Organizing the data into a dataframe\n",
    "    df_agent_data = pd.DataFrame({\n",
    "        \"Clicks\": [x[0] for x in pareto_front_evaluations],\n",
    "        \"Diversity\": [x[1] for x in pareto_front_evaluations],\n",
    "        \"Catalog Coverage\": catalog_coverages\n",
    "    })"
   ]
  },
  {
   "cell_type": "code",
   "execution_count": null,
   "metadata": {},
   "outputs": [],
   "source": [
    "# Adjusting the parsing logic to handle spaces and formatting issues correctly\n",
    "import re\n",
    "\n",
    "pareto_front_evaluations = []\n",
    "catalog_coverages = []\n",
    "\n",
    "# Regular expression to match array contents\n",
    "array_pattern = re.compile(r'array\\(\\[(.*?),(.*?)\\]')\n",
    "\n",
    "\n",
    "\n",
    "\n",
    "\n",
    "# Displaying the dataframe to the user\n",
    "tools.display_dataframe_to_user(name=\"Agent Data\", dataframe=df_agent_data)\n"
   ]
  }
 ],
 "metadata": {
  "kernelspec": {
   "display_name": "Python 3.10.11 ('venv': venv)",
   "language": "python",
   "name": "python3"
  },
  "language_info": {
   "codemirror_mode": {
    "name": "ipython",
    "version": 3
   },
   "file_extension": ".py",
   "mimetype": "text/x-python",
   "name": "python",
   "nbconvert_exporter": "python",
   "pygments_lexer": "ipython3",
   "version": "3.10.11"
  },
  "orig_nbformat": 4,
  "vscode": {
   "interpreter": {
    "hash": "5195411649f2679d763fd43db6617e723a6737006ff547e09f9aa32e0c7c7803"
   }
  }
 },
 "nbformat": 4,
 "nbformat_minor": 2
}
