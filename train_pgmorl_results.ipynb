{
 "cells": [
  {
   "cell_type": "code",
   "execution_count": 7,
   "metadata": {},
   "outputs": [],
   "source": [
    "import argparse\n",
    "import csv\n",
    "import datetime\n",
    "import gymnasium as gym\n",
    "import matplotlib.pyplot as plt\n",
    "import numpy as np\n",
    "import os\n",
    "import pandas as pd\n",
    "import pickle\n",
    "import re\n",
    "import sardine\n",
    "import torch\n",
    "\n",
    "from agents.wrappers import IdealState\n",
    "from pymoo.indicators.hv import HV\n",
    "from distutils.util import strtobool"
   ]
  },
  {
   "cell_type": "code",
   "execution_count": 38,
   "metadata": {},
   "outputs": [
    {
     "name": "stdout",
     "output_type": "stream",
     "text": [
      "[array([15.4    , 67.38575], dtype=float32), array([101.6    ,  61.79433], dtype=float32), array([20.6    , 65.90012], dtype=float32), array([84.2     , 65.379585], dtype=float32), array([109.     ,  56.74723], dtype=float32), array([102.8    ,  60.01656], dtype=float32)]\n",
      "[array([15.4    , 67.38575], dtype=float32), array([101.6    ,  61.79433], dtype=float32), array([20.6    , 65.90012], dtype=float32), array([84.2     , 65.379585], dtype=float32), array([109.     ,  56.74723], dtype=float32), array([102.8    ,  60.01656], dtype=float32)]\n",
      "[array([167.2     ,  36.197258], dtype=float32), array([155.2     ,  37.458366], dtype=float32), array([168.4     ,  32.476536], dtype=float32), array([140.6    ,  37.60723], dtype=float32), array([174.     ,  32.22302], dtype=float32), array([61.4    , 46.69573], dtype=float32), array([80.8    , 45.28869], dtype=float32)]\n",
      "[array([167.2     ,  36.197258], dtype=float32), array([155.2     ,  37.458366], dtype=float32), array([168.4     ,  32.476536], dtype=float32), array([140.6    ,  37.60723], dtype=float32), array([174.     ,  32.22302], dtype=float32), array([61.4    , 46.69573], dtype=float32), array([80.8    , 45.28869], dtype=float32)]\n",
      "[array([129.8     ,  45.548824], dtype=float32), array([100.8    ,  48.33634], dtype=float32), array([137.8     ,  44.566933], dtype=float32), array([174.     ,  44.00554], dtype=float32), array([84.6     , 52.272133], dtype=float32), array([191.2     ,  40.326454], dtype=float32), array([49.4   , 53.4391], dtype=float32), array([182.6     ,  40.982494], dtype=float32), array([223.4     ,  35.559086], dtype=float32), array([91.2    , 50.76287], dtype=float32)]\n",
      "[array([129.8     ,  45.548824], dtype=float32), array([100.8    ,  48.33634], dtype=float32), array([137.8     ,  44.566933], dtype=float32), array([174.     ,  44.00554], dtype=float32), array([84.6     , 52.272133], dtype=float32), array([191.2     ,  40.326454], dtype=float32), array([49.4   , 53.4391], dtype=float32), array([182.6     ,  40.982494], dtype=float32), array([223.4     ,  35.559086], dtype=float32), array([91.2    , 50.76287], dtype=float32)]\n",
      "[array([19.8    , 65.21001], dtype=float32), array([15.8     , 65.568825], dtype=float32)]\n",
      "[array([19.8    , 65.21001], dtype=float32), array([15.8     , 65.568825], dtype=float32)]\n",
      "[array([30.6    , 70.82435], dtype=float32), array([57.     , 70.16591], dtype=float32), array([85.2   , 69.2341], dtype=float32), array([94.2    , 69.04726], dtype=float32), array([87.6    , 69.17174], dtype=float32), array([73.6     , 69.889915], dtype=float32), array([100.4    ,  66.68126], dtype=float32), array([84.8     , 69.627075], dtype=float32), array([102.     ,  66.47493], dtype=float32), array([47.2    , 70.67125], dtype=float32)]\n",
      "[array([30.6    , 70.82435], dtype=float32), array([57.     , 70.16591], dtype=float32), array([85.2   , 69.2341], dtype=float32), array([94.2    , 69.04726], dtype=float32), array([87.6    , 69.17174], dtype=float32), array([73.6     , 69.889915], dtype=float32), array([100.4    ,  66.68126], dtype=float32), array([84.8     , 69.627075], dtype=float32), array([102.     ,  66.47493], dtype=float32), array([47.2    , 70.67125], dtype=float32)]\n",
      "[array([60.4    , 52.43589], dtype=float32), array([156.8    ,  43.60681], dtype=float32), array([171.4     ,  32.273655], dtype=float32), array([72.      , 52.422905], dtype=float32), array([154.     ,  44.96952], dtype=float32), array([ 8.6     , 52.756725], dtype=float32), array([169.      ,  43.423107], dtype=float32), array([170.8     ,  39.921955], dtype=float32), array([90.      , 50.499886], dtype=float32)]\n",
      "[array([60.4    , 52.43589], dtype=float32), array([156.8    ,  43.60681], dtype=float32), array([171.4     ,  32.273655], dtype=float32), array([72.      , 52.422905], dtype=float32), array([154.     ,  44.96952], dtype=float32), array([ 8.6     , 52.756725], dtype=float32), array([169.      ,  43.423107], dtype=float32), array([170.8     ,  39.921955], dtype=float32), array([90.      , 50.499886], dtype=float32)]\n",
      "[array([210.4     ,  39.859486], dtype=float32), array([202.4     ,  46.775787], dtype=float32), array([177.4     ,  49.314167], dtype=float32), array([62.      , 56.660393], dtype=float32), array([102.4    ,  54.66681], dtype=float32), array([103.6     ,  53.999367], dtype=float32), array([82.      , 56.216217], dtype=float32)]\n",
      "[array([210.4     ,  39.859486], dtype=float32), array([202.4     ,  46.775787], dtype=float32), array([177.4     ,  49.314167], dtype=float32), array([62.      , 56.660393], dtype=float32), array([102.4    ,  54.66681], dtype=float32), array([103.6     ,  53.999367], dtype=float32), array([82.      , 56.216217], dtype=float32)]\n",
      "[array([ 5.8     , 48.129986], dtype=float32), array([ 3.2    , 49.72011], dtype=float32), array([ 3.6     , 49.246147], dtype=float32), array([ 3.8     , 48.313366], dtype=float32), array([ 2.2    , 50.57818], dtype=float32)]\n",
      "[array([ 5.8     , 48.129986], dtype=float32), array([ 3.2    , 49.72011], dtype=float32), array([ 3.6     , 49.246147], dtype=float32), array([ 3.8     , 48.313366], dtype=float32), array([ 2.2    , 50.57818], dtype=float32)]\n",
      "[array([65.6     , 58.075653], dtype=float32), array([54.8    , 69.41357], dtype=float32), array([65.2     , 67.300674], dtype=float32), array([60.     , 67.44584], dtype=float32), array([104.4     ,  54.741535], dtype=float32), array([88.2     , 55.983112], dtype=float32), array([52.8    , 70.94209], dtype=float32), array([59.8     , 67.842445], dtype=float32)]\n",
      "[array([65.6     , 58.075653], dtype=float32), array([54.8    , 69.41357], dtype=float32), array([65.2     , 67.300674], dtype=float32), array([60.     , 67.44584], dtype=float32), array([104.4     ,  54.741535], dtype=float32), array([88.2     , 55.983112], dtype=float32), array([52.8    , 70.94209], dtype=float32), array([59.8     , 67.842445], dtype=float32)]\n",
      "[array([51.8     , 34.749043], dtype=float32), array([98.8     , 30.209665], dtype=float32), array([138.2     ,  25.458145], dtype=float32), array([101.8    ,  25.55767], dtype=float32), array([ 5.2     , 44.492073], dtype=float32), array([ 6.8     , 42.476093], dtype=float32), array([66.      , 34.169178], dtype=float32), array([ 2.6     , 47.613617], dtype=float32), array([ 7.8    , 41.22999], dtype=float32), array([16.2     , 40.671604], dtype=float32), array([100.2     ,  27.318624], dtype=float32), array([ 6.2     , 43.275642], dtype=float32)]\n",
      "[array([51.8     , 34.749043], dtype=float32), array([98.8     , 30.209665], dtype=float32), array([138.2     ,  25.458145], dtype=float32), array([101.8    ,  25.55767], dtype=float32), array([ 5.2     , 44.492073], dtype=float32), array([ 6.8     , 42.476093], dtype=float32), array([66.      , 34.169178], dtype=float32), array([ 2.6     , 47.613617], dtype=float32), array([ 7.8    , 41.22999], dtype=float32), array([16.2     , 40.671604], dtype=float32), array([100.2     ,  27.318624], dtype=float32), array([ 6.2     , 43.275642], dtype=float32)]\n"
     ]
    },
    {
     "ename": "FileNotFoundError",
     "evalue": "[Errno 2] No such file or directory: 'data\\\\morl\\\\pareto-archive-mosac-slatesize-3-numitems100-timesteps100-rankertopk-envsardine-SlateTopK-Bored-v0_catalog_coverage.pkl'",
     "output_type": "error",
     "traceback": [
      "\u001b[1;31m---------------------------------------------------------------------------\u001b[0m",
      "\u001b[1;31mFileNotFoundError\u001b[0m                         Traceback (most recent call last)",
      "Cell \u001b[1;32mIn[38], line 16\u001b[0m\n\u001b[0;32m     11\u001b[0m file_eval \u001b[38;5;241m=\u001b[39m os\u001b[38;5;241m.\u001b[39mpath\u001b[38;5;241m.\u001b[39mjoin(\u001b[38;5;124m\"\u001b[39m\u001b[38;5;124mdata\u001b[39m\u001b[38;5;124m\"\u001b[39m, \u001b[38;5;124m\"\u001b[39m\u001b[38;5;124mmorl\u001b[39m\u001b[38;5;124m\"\u001b[39m,\u001b[38;5;124m\"\u001b[39m\u001b[38;5;124mpareto-archive-mosac-slatesize-3-numitems100-timesteps100-rankertopk-envsardine-SlateTopK-Bored-v0-evaluations.pkl\u001b[39m\u001b[38;5;124m\"\u001b[39m)\n\u001b[0;32m     12\u001b[0m file_catalog \u001b[38;5;241m=\u001b[39m os\u001b[38;5;241m.\u001b[39mpath\u001b[38;5;241m.\u001b[39mjoin(\u001b[38;5;124m\"\u001b[39m\u001b[38;5;124mdata\u001b[39m\u001b[38;5;124m\"\u001b[39m, \u001b[38;5;124m\"\u001b[39m\u001b[38;5;124mmorl\u001b[39m\u001b[38;5;124m\"\u001b[39m,\u001b[38;5;124m\"\u001b[39m\u001b[38;5;124mpareto-archive-mosac-slatesize-3-numitems100-timesteps100-rankertopk-envsardine-SlateTopK-Bored-v0_catalog_coverage.pkl\u001b[39m\u001b[38;5;124m\"\u001b[39m)\n\u001b[1;32m---> 16\u001b[0m \u001b[38;5;28;01mwith\u001b[39;00m \u001b[38;5;28;43mopen\u001b[39;49m\u001b[43m(\u001b[49m\u001b[43mfile_catalog\u001b[49m\u001b[43m,\u001b[49m\u001b[43m \u001b[49m\u001b[38;5;124;43m\"\u001b[39;49m\u001b[38;5;124;43mrb\u001b[39;49m\u001b[38;5;124;43m\"\u001b[39;49m\u001b[43m)\u001b[49m \u001b[38;5;28;01mas\u001b[39;00m f:\n\u001b[0;32m     17\u001b[0m     catalog \u001b[38;5;241m=\u001b[39m pickle\u001b[38;5;241m.\u001b[39mload(f)\n\u001b[0;32m     19\u001b[0m \u001b[38;5;28mprint\u001b[39m(evaluations)\n",
      "File \u001b[1;32mc:\\Users\\Yassi\\Documents\\GitHub\\Master_thesis_RLRSs\\venv\\lib\\site-packages\\IPython\\core\\interactiveshell.py:324\u001b[0m, in \u001b[0;36m_modified_open\u001b[1;34m(file, *args, **kwargs)\u001b[0m\n\u001b[0;32m    317\u001b[0m \u001b[39mif\u001b[39;00m file \u001b[39min\u001b[39;00m {\u001b[39m0\u001b[39m, \u001b[39m1\u001b[39m, \u001b[39m2\u001b[39m}:\n\u001b[0;32m    318\u001b[0m     \u001b[39mraise\u001b[39;00m \u001b[39mValueError\u001b[39;00m(\n\u001b[0;32m    319\u001b[0m         \u001b[39mf\u001b[39m\u001b[39m\"\u001b[39m\u001b[39mIPython won\u001b[39m\u001b[39m'\u001b[39m\u001b[39mt let you open fd=\u001b[39m\u001b[39m{\u001b[39;00mfile\u001b[39m}\u001b[39;00m\u001b[39m by default \u001b[39m\u001b[39m\"\u001b[39m\n\u001b[0;32m    320\u001b[0m         \u001b[39m\"\u001b[39m\u001b[39mas it is likely to crash IPython. If you know what you are doing, \u001b[39m\u001b[39m\"\u001b[39m\n\u001b[0;32m    321\u001b[0m         \u001b[39m\"\u001b[39m\u001b[39myou can use builtins\u001b[39m\u001b[39m'\u001b[39m\u001b[39m open.\u001b[39m\u001b[39m\"\u001b[39m\n\u001b[0;32m    322\u001b[0m     )\n\u001b[1;32m--> 324\u001b[0m \u001b[39mreturn\u001b[39;00m io_open(file, \u001b[39m*\u001b[39margs, \u001b[39m*\u001b[39m\u001b[39m*\u001b[39mkwargs)\n",
      "\u001b[1;31mFileNotFoundError\u001b[0m: [Errno 2] No such file or directory: 'data\\\\morl\\\\pareto-archive-mosac-slatesize-3-numitems100-timesteps100-rankertopk-envsardine-SlateTopK-Bored-v0_catalog_coverage.pkl'"
     ]
    }
   ],
   "source": [
    "for file in os.listdir(\"data/morl\"):\n",
    "    file_eval = False\n",
    "    if \"misc\" not in file:\n",
    "        if \"evaluations\" in file:\n",
    "            file_eval = True\n",
    "        if file_eval:\n",
    "            with open(os.path.join(\"data\", \"morl\",file), \"rb\") as f:\n",
    "                evaluations = pickle.load(f)\n",
    "        print(evaluations)\n",
    "\n",
    "file_eval = os.path.join(\"data\", \"morl\",\"pareto-archive-mosac-slatesize-3-numitems100-timesteps100-rankertopk-envsardine-SlateTopK-Bored-v0-evaluations.pkl\")\n",
    "file_catalog = os.path.join(\"data\", \"morl\",\"pareto-archive-mosac-slatesize-3-numitems100-timesteps100-rankertopk-envsardine-SlateTopK-Bored-v0_catalog_coverage.pkl\")\n",
    "\n",
    "\n",
    "\n",
    "with open(file_catalog, \"rb\") as f:\n",
    "    catalog = pickle.load(f)\n",
    "\n",
    "print(evaluations)\n",
    "print(catalog)"
   ]
  },
  {
   "cell_type": "code",
   "execution_count": 33,
   "metadata": {},
   "outputs": [
    {
     "name": "stdout",
     "output_type": "stream",
     "text": [
      "Training PGMORL using mosac on sardine/SlateTopK-Bored-v0 with 100.0 timesteps. random = False, observable = True, ranker = gems, decoder = SlateTopKBoredv0numitem100slatesize3_oracle_epsilon0.5_seed2023_n_users100000.ptkl_divergence1.0_lambda_click0.5_latentdim16.pt\n",
      "Training PGMORL using mosac on sardine/SlateTopK-Bored-v0 with 500000.0 timesteps. random = False, observable = True, ranker = topk, decoder = SlateTopKBoredv0numitem100slatesize3_oracle_epsilon0.5_seed2023_n_users100000.ptkl_divergence1.0_lambda_click0.5_latentdim16.pt\n",
      "Training PGMORL using mosac on sardine/SlateTopK-Bored-v0 with 500000.0 timesteps. random = False, observable = True, ranker = topk, decoder = SlateTopKBoredv0numitem100slatesize3_oracle_epsilon0.5_seed2023_n_users100000.ptkl_divergence1.0_lambda_click0.5_latentdim16.pt\n",
      "Training PGMORL using mosac on sardine/SlateTopK-Bored-v0 with 500000.0 timesteps. random = False, observable = True, ranker = topk, decoder = SlateTopKBoredv0numitem100slatesize3_oracle_epsilon0.5_seed2023_n_users100000.ptkl_divergence1.0_lambda_click0.5_latentdim16.pt\n",
      "Training PGMORL using mosac on sardine/SlateTopK-Bored-v0 with 500000.0 timesteps. random = False, observable = True, ranker = topk, decoder = SlateTopKBoredv0numitem100slatesize3_oracle_epsilon0.5_seed2023_n_users100000.ptkl_divergence1.0_lambda_click0.5_latentdim16.pt\n",
      "Training PGMORL using mosac on sardine/SlateTopK-Bored-v0 with 500000.0 timesteps. random = False, observable = True, ranker = topk, decoder = SlateTopKBoredv0numitem100slatesize3_oracle_epsilon0.5_seed2023_n_users100000.ptkl_divergence1.0_lambda_click0.5_latentdim16.pt\n",
      "Training PGMORL using mosac on sardine/SlateTopK-Bored-v0 with 500000.0 timesteps. random = False, observable = True, ranker = topk, decoder = SlateTopKBoredv0numitem100slatesize3_oracle_epsilon0.5_seed2023_n_users100000.ptkl_divergence1.0_lambda_click0.5_latentdim16.pt\n",
      "\n",
      "Training time: 156.46 minutes\n",
      "Training PGMORL using mosac on sardine/SlateTopK-Bored-v0 with 500000.0 timesteps. random = False, observable = True, ranker = topk, decoder = SlateTopKBoredv0numitem100slatesize3_oracle_epsilon0.5_seed2023_n_users100000.ptkl_divergence1.0_lambda_click0.5_latentdim16.pt\n",
      "\n",
      "Training time: 152.35 minutes\n",
      "Training PGMORL using mosac on sardine/SlateTopK-Bored-v0 with 500000.0 timesteps. random = False, observable = True, ranker = topk, decoder = SlateTopKBoredv0numitem100slatesize3_oracle_epsilon0.5_seed2023_n_users100000.ptkl_divergence1.0_lambda_click0.5_latentdim16.pt\n",
      "\n",
      "Training time: 130.58 minutes\n",
      "Training PGMORL using mosac on sardine/SlateTopK-Bored-v0 with 100.0 timesteps. random = False, observable = True, ranker = topk, decoder = SlateTopKBoredv0numitem100slatesize3_oracle_epsilon0.5_seed2023_n_users100000.ptkl_divergence1.0_lambda_click0.5_latentdim16.pt\n",
      "\n",
      "Training time: 1.79 minutes\n",
      "Training PGMORL using mosac on sardine/SlateTopK-Bored-v0 with 500000.0 timesteps. random = False, observable = True, ranker = topk, decoder = SlateTopKBoredv0numitem100slatesize3_oracle_epsilon0.5_seed2023_n_users100000.ptkl_divergence1.0_lambda_click0.5_latentdim16.pt\n",
      "Training PGMORL using mosac on sardine/SlateTopK-Bored-v0 with 500000.0 timesteps. random = False, observable = True, ranker = topk, decoder = SlateTopKBoredv0numitem100slatesize3_oracle_epsilon0.5_seed2023_n_users100000.ptkl_divergence1.0_lambda_click0.5_latentdim16.pt\n",
      "\n",
      "Training time: 201.45 minutes\n",
      "Training PGMORL using mosac on sardine/SlateTopK-Bored-v0 with 500000.0 timesteps. random = False, observable = True, ranker = topk, decoder = SlateTopKBoredv0numitem100slatesize3_oracle_epsilon0.5_seed2023_n_users100000.ptkl_divergence1.0_lambda_click0.5_latentdim16.pt\n",
      "\n",
      "Training time: 200.25 minutes\n",
      "Training PGMORL using mosac on sardine/SlateTopK-Bored-v0 with 500000.0 timesteps. random = False, observable = True, ranker = topk, decoder = SlateTopKBoredv0numitem100slatesize3_oracle_epsilon0.5_seed2023_n_users100000.ptkl_divergence1.0_lambda_click0.5_latentdim16.pt\n",
      "\n",
      "Training time: 238.59 minutes\n",
      "Training PGMORL using mosac on sardine/SlateTopK-Bored-v0 with 100.0 timesteps. random = False, observable = True, ranker = topk, decoder = SlateTopKBoredv0numitem100slatesize3_oracle_epsilon0.5_seed2023_n_users100000.ptkl_divergence1.0_lambda_click0.5_latentdim16.pt\n",
      "\n",
      "Training time: 0.56 minutes\n",
      "Training PGMORL using mosac on sardine/SlateTopK-Bored-v0 with 100.0 timesteps. random = False, observable = True, ranker = topk, decoder = SlateTopKBoredv0numitem100slatesize3_oracle_epsilon0.5_seed2023_n_users100000.ptkl_divergence1.0_lambda_click0.5_latentdim16.pt\n",
      "\n",
      "Training time: 0.53 minutes\n",
      "Training PGMORL using mosac on sardine/SlateTopK-Bored-v0 with 500000.0 timesteps. random = False, observable = True, ranker = topk, decoder = SlateTopKBoredv0numitem100slatesize3_oracle_epsilon0.5_seed2023_n_users100000.ptkl_divergence1.0_lambda_click0.5_latentdim16.pt\n",
      "Training PGMORL using mosac on sardine/SlateTopK-Bored-v0 with 500000.0 timesteps. random = False, observable = True, ranker = topk, decoder = SlateTopKBoredv0numitem100slatesize3_oracle_epsilon0.5_seed2023_n_users100000.ptkl_divergence1.0_lambda_click0.5_latentdim16.pt\n",
      "Training PGMORL using mosac on sardine/SlateTopK-Bored-v0 with 500000.0 timesteps. random = False, observable = True, ranker = topk, decoder = SlateTopKBoredv0numitem100slatesize3_oracle_epsilon0.5_seed2023_n_users100000.ptkl_divergence1.0_lambda_click0.5_latentdim16.pt\n",
      "\n",
      "Training time: 141.56 minutes\n",
      "Training PGMORL using mosac on sardine/SlateTopK-Bored-v0 with 500000.0 timesteps. random = False, observable = True, ranker = topk, decoder = SlateTopKBoredv0numitem100slatesize3_oracle_epsilon0.5_seed2023_n_users100000.ptkl_divergence1.0_lambda_click0.5_latentdim16.pt\n",
      "Training PGMORL using mosac on sardine/SlateTopK-Bored-v0 with 500000.0 timesteps. random = False, observable = True, ranker = topk, decoder = SlateTopKBoredv0numitem100slatesize3_oracle_epsilon0.5_seed2023_n_users100000.ptkl_divergence1.0_lambda_click0.5_latentdim16.pt\n",
      "\n",
      "Training time: 97.63 minutes\n",
      "[]\n"
     ]
    },
    {
     "data": {
      "text/html": [
       "<div>\n",
       "<style scoped>\n",
       "    .dataframe tbody tr th:only-of-type {\n",
       "        vertical-align: middle;\n",
       "    }\n",
       "\n",
       "    .dataframe tbody tr th {\n",
       "        vertical-align: top;\n",
       "    }\n",
       "\n",
       "    .dataframe thead th {\n",
       "        text-align: right;\n",
       "    }\n",
       "</style>\n",
       "<table border=\"1\" class=\"dataframe\">\n",
       "  <thead>\n",
       "    <tr style=\"text-align: right;\">\n",
       "      <th></th>\n",
       "      <th>Clicks</th>\n",
       "      <th>Diversity</th>\n",
       "      <th>Catalog Coverage</th>\n",
       "    </tr>\n",
       "  </thead>\n",
       "  <tbody>\n",
       "  </tbody>\n",
       "</table>\n",
       "</div>"
      ],
      "text/plain": [
       "Empty DataFrame\n",
       "Columns: [Clicks, Diversity, Catalog Coverage]\n",
       "Index: []"
      ]
     },
     "execution_count": 33,
     "metadata": {},
     "output_type": "execute_result"
    }
   ],
   "source": [
    "pareto_front_evaluations = []\n",
    "catalog_coverages = []\n",
    "for file in os.listdir(\"logs/morl\"):\n",
    "    if \"misc\" not in file:\n",
    "        with open(os.path.join(\"logs\", \"morl\", file), \"r\") as f:\n",
    "            text = f.readlines()\n",
    "            # Regular expression to match array contents\n",
    "            array_pattern = re.compile(r'array\\(\\[(.*?),(.*?)\\]')\n",
    "            for line in text:\n",
    "                print(line)\n",
    "                if \"Pareto front evaluations\" in line:\n",
    "                    # Extracting arrays from the log content using regex\n",
    "                    matches = array_pattern.findall(line)\n",
    "                    for match in matches:\n",
    "                        clicks = float(match[0].strip())\n",
    "                        diversity = float(match[1].strip())\n",
    "                        pareto_front_evaluations.append((clicks, diversity))\n",
    "                elif \"Catalog Coverages\" in line:\n",
    "                    # Extracting catalog coverages\n",
    "                    coverage_str = line.split(':')[1].strip().strip('[]')\n",
    "                    catalog_coverages.append([float(cov) for cov in coverage_str.split(',')])\n",
    "        \n",
    "print(catalog_coverages)\n",
    "# Organizing the data into a dataframe\n",
    "df_agent_data = pd.DataFrame({\n",
    "    \"Clicks\": [x[0] for x in pareto_front_evaluations],\n",
    "    \"Diversity\": [x[1] for x in pareto_front_evaluations],\n",
    "    \"Catalog Coverage\": catalog_coverages\n",
    "})\n",
    "df_agent_data"
   ]
  },
  {
   "cell_type": "code",
   "execution_count": null,
   "metadata": {},
   "outputs": [],
   "source": [
    "# Adjusting the parsing logic to handle spaces and formatting issues correctly\n",
    "import re\n",
    "\n",
    "pareto_front_evaluations = []\n",
    "catalog_coverages = []\n",
    "\n",
    "# Regular expression to match array contents\n",
    "array_pattern = re.compile(r'array\\(\\[(.*?),(.*?)\\]')\n",
    "\n",
    "\n",
    "\n",
    "\n",
    "\n",
    "# Displaying the dataframe to the user\n",
    "tools.display_dataframe_to_user(name=\"Agent Data\", dataframe=df_agent_data)\n"
   ]
  },
  {
   "cell_type": "code",
   "execution_count": null,
   "metadata": {},
   "outputs": [],
   "source": []
  }
 ],
 "metadata": {
  "kernelspec": {
   "display_name": "Python 3.10.11 ('venv': venv)",
   "language": "python",
   "name": "python3"
  },
  "language_info": {
   "codemirror_mode": {
    "name": "ipython",
    "version": 3
   },
   "file_extension": ".py",
   "mimetype": "text/x-python",
   "name": "python",
   "nbconvert_exporter": "python",
   "pygments_lexer": "ipython3",
   "version": "3.10.11"
  },
  "orig_nbformat": 4,
  "vscode": {
   "interpreter": {
    "hash": "5195411649f2679d763fd43db6617e723a6737006ff547e09f9aa32e0c7c7803"
   }
  }
 },
 "nbformat": 4,
 "nbformat_minor": 2
}
