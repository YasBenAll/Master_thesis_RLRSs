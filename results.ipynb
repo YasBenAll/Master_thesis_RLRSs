{
 "cells": [
  {
   "cell_type": "code",
   "execution_count": 11,
   "metadata": {},
   "outputs": [],
   "source": [
    "import argparse\n",
    "import csv\n",
    "import datetime\n",
    "import gymnasium as gym\n",
    "import matplotlib.pyplot as plt\n",
    "import numpy as np\n",
    "import os\n",
    "import pandas as pd\n",
    "import re\n",
    "import sardine\n",
    "import torch\n",
    "\n",
    "from agents.wrappers import IdealState\n",
    "from pymoo.indicators.hv import HV\n",
    "from distutils.util import strtobool"
   ]
  },
  {
   "cell_type": "code",
   "execution_count": 18,
   "metadata": {},
   "outputs": [
    {
     "data": {
      "text/plain": [
       "Index(['agent', 'ranker', 'env-id', 'slate size', 'num items', 'reward-type',\n",
       "       'clicks', 'clicks_std', 'diversity', 'diversity_std',\n",
       "       'catalog coverage', 'catalog_coverage_std', 'runtime', 'runtime_std'],\n",
       "      dtype='object')"
      ]
     },
     "execution_count": 18,
     "metadata": {},
     "output_type": "execute_result"
    }
   ],
   "source": [
    "\n",
    "# read csv file \n",
    "data = pd.read_csv(\"results/results.csv\")\n",
    "data.columns"
   ]
  },
  {
   "cell_type": "code",
   "execution_count": 23,
   "metadata": {},
   "outputs": [],
   "source": [
    "data_10= data[data[\"slate size\"]==10]\n",
    "data_10_1000 = data_10[data_10[\"num items\"]==1000]\n",
    "data_10_1000_slatetopk = data_10_1000[data_10_1000[\"env-id\"]==\"sardine/SlateTopK-Bored-v0\"]\n",
    "data_10_1000_slatetopk[[\"agent\",\"diversity\", \"clicks\", \"catalog coverage\", \"runtime\"]]\n",
    "\n",
    "df = data_10_1000_slatetopk[[\"agent\",\"diversity\", \"clicks\", \"catalog coverage\", \"runtime\"]].copy()"
   ]
  },
  {
   "cell_type": "code",
   "execution_count": 27,
   "metadata": {},
   "outputs": [
    {
     "ename": "IndexError",
     "evalue": "list index out of range",
     "output_type": "error",
     "traceback": [
      "\u001b[1;31m---------------------------------------------------------------------------\u001b[0m",
      "\u001b[1;31mIndexError\u001b[0m                                Traceback (most recent call last)",
      "Cell \u001b[1;32mIn[27], line 9\u001b[0m\n\u001b[0;32m      7\u001b[0m \u001b[38;5;66;03m# Scatter plot with different colors for each agent\u001b[39;00m\n\u001b[0;32m      8\u001b[0m \u001b[38;5;28;01mfor\u001b[39;00m i, row \u001b[38;5;129;01min\u001b[39;00m df\u001b[38;5;241m.\u001b[39miterrows():\n\u001b[1;32m----> 9\u001b[0m     plt\u001b[38;5;241m.\u001b[39mscatter(row[\u001b[38;5;124m\"\u001b[39m\u001b[38;5;124mclicks\u001b[39m\u001b[38;5;124m\"\u001b[39m], row[\u001b[38;5;124m\"\u001b[39m\u001b[38;5;124mdiversity\u001b[39m\u001b[38;5;124m\"\u001b[39m], color\u001b[38;5;241m=\u001b[39m\u001b[43mcolors\u001b[49m\u001b[43m[\u001b[49m\u001b[43mi\u001b[49m\u001b[43m]\u001b[49m, label\u001b[38;5;241m=\u001b[39mrow[\u001b[38;5;124m\"\u001b[39m\u001b[38;5;124magent\u001b[39m\u001b[38;5;124m\"\u001b[39m])\n\u001b[0;32m     11\u001b[0m \u001b[38;5;66;03m# Plot styling\u001b[39;00m\n\u001b[0;32m     12\u001b[0m plt\u001b[38;5;241m.\u001b[39mxlabel(\u001b[38;5;124m\"\u001b[39m\u001b[38;5;124mCumulative clicks\u001b[39m\u001b[38;5;124m\"\u001b[39m)\n",
      "\u001b[1;31mIndexError\u001b[0m: list index out of range"
     ]
    },
    {
     "data": {
      "text/plain": [
       "<Figure size 800x600 with 0 Axes>"
      ]
     },
     "metadata": {},
     "output_type": "display_data"
    }
   ],
   "source": [
    "# Plotting diversity vs clicks with a legend for agent names\n",
    "plt.figure(figsize=(8, 6))\n",
    "\n",
    "# Color mapping for agents\n",
    "colors = ['red', 'green', 'blue', 'orange']\n",
    "\n",
    "# Scatter plot with different colors for each agent\n",
    "for i, row in df.iterrows():\n",
    "    print(i)\n",
    "    plt.scatter(row[\"clicks\"], row[\"diversity\"], color=colors[i], label=row[\"agent\"])\n",
    "\n",
    "# Plot styling\n",
    "plt.xlabel(\"Cumulative clicks\")\n",
    "plt.ylabel(\"Average Intra-list diversity\")\n",
    "plt.title(\"Diversity vs Clicks by Agents\")\n",
    "\n",
    "# Adding a legend to show agent names\n",
    "plt.legend(title=\"Agents\")\n",
    "\n",
    "# Display the plot\n",
    "plt.grid(True)\n",
    "plt.show()\n"
   ]
  },
  {
   "cell_type": "code",
   "execution_count": null,
   "metadata": {},
   "outputs": [],
   "source": []
  }
 ],
 "metadata": {
  "kernelspec": {
   "display_name": "Python 3.10.11 ('venv': venv)",
   "language": "python",
   "name": "python3"
  },
  "language_info": {
   "codemirror_mode": {
    "name": "ipython",
    "version": 3
   },
   "file_extension": ".py",
   "mimetype": "text/x-python",
   "name": "python",
   "nbconvert_exporter": "python",
   "pygments_lexer": "ipython3",
   "version": "3.10.11"
  },
  "orig_nbformat": 4,
  "vscode": {
   "interpreter": {
    "hash": "5195411649f2679d763fd43db6617e723a6737006ff547e09f9aa32e0c7c7803"
   }
  }
 },
 "nbformat": 4,
 "nbformat_minor": 2
}
