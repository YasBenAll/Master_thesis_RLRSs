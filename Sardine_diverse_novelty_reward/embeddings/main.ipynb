{
 "cells": [
  {
   "cell_type": "code",
   "execution_count": 23,
   "metadata": {},
   "outputs": [
    {
     "name": "stdout",
     "output_type": "stream",
     "text": [
      "{'user': array([[-0.47576058, -0.06382736,  0.16106443, ...,  0.39491382,\n",
      "         0.13661943, -0.12216821],\n",
      "       [-0.11841311, -0.18827128, -0.04129242, ..., -0.13933046,\n",
      "        -0.01434601,  0.24169308],\n",
      "       [ 0.03682259,  0.14969163, -0.21572559, ..., -0.05793679,\n",
      "        -0.14178896, -0.04599217],\n",
      "       ...,\n",
      "       [-0.22876619,  0.1770577 , -0.11770654, ...,  0.0872776 ,\n",
      "        -0.01663914,  0.07561873],\n",
      "       [-0.1503827 , -0.07639916, -0.11873519, ...,  0.26284415,\n",
      "         0.092045  , -0.26890865],\n",
      "       [-0.44386148,  0.09515292, -0.00800852, ...,  0.31262884,\n",
      "         0.35177433, -0.05787563]], dtype=float32), 'item': array([[-0.24787109, -0.12294751, -0.19035453, ...,  0.19146638,\n",
      "         0.18372361,  0.10120554],\n",
      "       [-0.16859238,  0.10439276, -0.10555931, ...,  0.00950047,\n",
      "         0.12457345, -0.08297441],\n",
      "       [ 0.05544752, -0.25189218, -0.03705575, ..., -0.14260913,\n",
      "        -0.07726742,  0.1658129 ],\n",
      "       ...,\n",
      "       [ 0.3394871 , -0.41927186,  0.08318175, ..., -0.17155606,\n",
      "        -0.2337076 , -0.23159038],\n",
      "       [ 0.1345768 , -0.12887385,  0.347123  , ..., -0.09125812,\n",
      "        -0.19403785, -0.33825606],\n",
      "       [ 0.03569386, -0.06984671,  0.22277373, ..., -0.24532644,\n",
      "        -0.08916109,  0.04497221]], dtype=float32)}\n",
      "()\n"
     ]
    },
    {
     "ename": "IndexError",
     "evalue": "only integers, slices (`:`), ellipsis (`...`), numpy.newaxis (`None`) and integer or boolean arrays are valid indices",
     "output_type": "error",
     "traceback": [
      "\u001b[0;31m---------------------------------------------------------------------------\u001b[0m",
      "\u001b[0;31mIndexError\u001b[0m                                Traceback (most recent call last)",
      "Cell \u001b[0;32mIn[23], line 6\u001b[0m\n\u001b[1;32m      4\u001b[0m \u001b[38;5;28mprint\u001b[39m(movielens) \n\u001b[1;32m      5\u001b[0m \u001b[38;5;28mprint\u001b[39m(movielens\u001b[38;5;241m.\u001b[39mshape)\n\u001b[0;32m----> 6\u001b[0m \u001b[38;5;28mprint\u001b[39m(\u001b[43mmovielens\u001b[49m\u001b[43m[\u001b[49m\u001b[38;5;124;43m'\u001b[39;49m\u001b[38;5;124;43mitem\u001b[39;49m\u001b[38;5;124;43m'\u001b[39;49m\u001b[43m]\u001b[49m)\n",
      "\u001b[0;31mIndexError\u001b[0m: only integers, slices (`:`), ellipsis (`...`), numpy.newaxis (`None`) and integer or boolean arrays are valid indices"
     ]
    }
   ],
   "source": [
    "import numpy as np\n",
    "\n",
    "movielens=np.load(\"movielens.npy\", allow_pickle=True)\n",
    "print(movielens) \n",
    "print(movielens.shape)\n",
    "print(movielens['item'])\n",
    ")"
   ]
  },
  {
   "cell_type": "code",
   "execution_count": 25,
   "metadata": {},
   "outputs": [
    {
     "ename": "AttributeError",
     "evalue": "'numpy.ndarray' object has no attribute 'keys'",
     "output_type": "error",
     "traceback": [
      "\u001b[0;31m---------------------------------------------------------------------------\u001b[0m",
      "\u001b[0;31mAttributeError\u001b[0m                            Traceback (most recent call last)",
      "Cell \u001b[0;32mIn[25], line 1\u001b[0m\n\u001b[0;32m----> 1\u001b[0m \u001b[38;5;28mprint\u001b[39m(\u001b[43mmovielens\u001b[49m\u001b[38;5;241;43m.\u001b[39;49m\u001b[43mkeys\u001b[49m())\n",
      "\u001b[0;31mAttributeError\u001b[0m: 'numpy.ndarray' object has no attribute 'keys'"
     ]
    }
   ],
   "source": [
    "print(movielens.keys())"
   ]
  },
  {
   "cell_type": "code",
   "execution_count": 27,
   "metadata": {},
   "outputs": [
    {
     "name": "stdout",
     "output_type": "stream",
     "text": [
      "object\n"
     ]
    }
   ],
   "source": [
    "print(movielens.dtype)"
   ]
  },
  {
   "cell_type": "code",
   "execution_count": 28,
   "metadata": {},
   "outputs": [
    {
     "ename": "TypeError",
     "evalue": "iteration over a 0-d array",
     "output_type": "error",
     "traceback": [
      "\u001b[0;31m---------------------------------------------------------------------------\u001b[0m",
      "\u001b[0;31mTypeError\u001b[0m                                 Traceback (most recent call last)",
      "Cell \u001b[0;32mIn[28], line 1\u001b[0m\n\u001b[0;32m----> 1\u001b[0m \u001b[38;5;28;43;01mfor\u001b[39;49;00m\u001b[43m \u001b[49m\u001b[43mi\u001b[49m\u001b[43m \u001b[49m\u001b[38;5;129;43;01min\u001b[39;49;00m\u001b[43m \u001b[49m\u001b[43mmovielens\u001b[49m\u001b[43m:\u001b[49m\n\u001b[1;32m      2\u001b[0m \u001b[43m    \u001b[49m\u001b[38;5;28;43mprint\u001b[39;49m\u001b[43m(\u001b[49m\u001b[43mi\u001b[49m\u001b[43m)\u001b[49m\n",
      "\u001b[0;31mTypeError\u001b[0m: iteration over a 0-d array"
     ]
    }
   ],
   "source": [
    "for i in movielens:\n",
    "    print(i)"
   ]
  },
  {
   "cell_type": "code",
   "execution_count": 35,
   "metadata": {},
   "outputs": [
    {
     "data": {
      "text/plain": [
       "array([-0.16859238,  0.10439276, -0.10555931,  0.09087121, -0.04236056,\n",
       "        0.15938066, -0.03075481,  0.35394847,  0.27452385,  0.03382101,\n",
       "       -0.18708155, -0.0052928 ,  0.14453307,  0.1053096 ,  0.11555716,\n",
       "        0.16100952,  0.34746033,  0.39936426,  0.06327217,  0.38944688,\n",
       "        0.29996455, -0.48064885, -0.24437408, -0.12494833,  0.02208875,\n",
       "       -0.10519367, -0.19966647,  0.11409847,  0.07874916, -0.12396137,\n",
       "       -0.10711432,  0.04272397, -0.2714535 , -0.08305086, -0.29613188,\n",
       "       -0.12013252,  0.25188518,  0.04149892, -0.20458178,  0.18176451,\n",
       "        0.4545176 , -0.04479353,  0.1936969 , -0.04094945, -0.17566483,\n",
       "       -0.05376248,  0.18128781, -0.27834022,  0.10918082,  0.13032074,\n",
       "       -0.01493497, -0.11315892, -0.07661466, -0.16862544, -0.14353077,\n",
       "       -0.04790339, -0.16536139,  0.19769904, -0.0635726 ,  0.04343748,\n",
       "        0.11969372,  0.00542914,  0.09167448,  0.12540282, -0.3138579 ,\n",
       "        0.08703893,  0.02888771, -0.20086986,  0.18164378, -0.1492029 ,\n",
       "        0.23962338,  0.22128232, -0.287017  , -0.14872688,  0.24175422,\n",
       "       -0.05984076,  0.49954605,  0.51758736, -0.12897038, -0.03133866,\n",
       "       -0.17316705, -0.06250189,  0.05268942, -0.2391272 , -0.03175831,\n",
       "        0.04853982,  0.29940876, -0.13101098,  0.2557006 ,  0.03977338,\n",
       "        0.11796663, -0.06156721, -0.08517377,  0.32059646,  0.18473688,\n",
       "       -0.07036508,  0.11487308, -0.34252742,  0.40531296,  0.12851578,\n",
       "        0.14600997, -0.03278903, -0.01501722, -0.22125472,  0.22735612,\n",
       "       -0.12353632, -0.09681562,  0.2033453 , -0.06887469,  0.18381964,\n",
       "        0.05098194,  0.03231901,  0.3288916 , -0.3166357 , -0.11376404,\n",
       "        0.5409599 , -0.05445568,  0.22759953, -0.07404466,  0.2848467 ,\n",
       "        0.03613328,  0.10411201,  0.02062529, -0.08666627,  0.20605652,\n",
       "        0.00950047,  0.12457345, -0.08297441], dtype=float32)"
      ]
     },
     "execution_count": 35,
     "metadata": {},
     "output_type": "execute_result"
    }
   ],
   "source": [
    "movielens.item()['item'][1]"
   ]
  },
  {
   "cell_type": "code",
   "execution_count": null,
   "metadata": {},
   "outputs": [],
   "source": []
  }
 ],
 "metadata": {
  "kernelspec": {
   "display_name": "sardine",
   "language": "python",
   "name": "sardine"
  },
  "language_info": {
   "codemirror_mode": {
    "name": "ipython",
    "version": 3
   },
   "file_extension": ".py",
   "mimetype": "text/x-python",
   "name": "python",
   "nbconvert_exporter": "python",
   "pygments_lexer": "ipython3",
   "version": "3.12.2"
  }
 },
 "nbformat": 4,
 "nbformat_minor": 2
}
