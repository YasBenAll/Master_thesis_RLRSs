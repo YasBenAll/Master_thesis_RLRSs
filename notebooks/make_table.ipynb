{
 "cells": [
  {
   "cell_type": "code",
   "execution_count": 3,
   "metadata": {},
   "outputs": [],
   "source": [
    "import numpy as np"
   ]
  },
  {
   "cell_type": "markdown",
   "metadata": {},
   "source": [
    "# random"
   ]
  },
  {
   "cell_type": "code",
   "execution_count": 4,
   "metadata": {},
   "outputs": [],
   "source": [
    "hv = np.array([949.9833333333328, 1001.1166666666661, 861.8999999999995, 907.7333333333327, 880.7166666666661])\n",
    "clicks = np.array([21.12, 25.92, 21.64, 21.76, 24.64])\n",
    "diversity = np.array([21.132, 21.253, 21.702, 21.545, 21.66])"
   ]
  },
  {
   "cell_type": "code",
   "execution_count": 9,
   "metadata": {},
   "outputs": [
    {
     "name": "stdout",
     "output_type": "stream",
     "text": [
      "HV: 920.2899999999994 ±(50.09541850863763)\n",
      "Clicks: 22.808 ±(1.6737789579272404)\n",
      "Diversity: 0.21643860000000004 ±(0.05247702735483383)\n"
     ]
    }
   ],
   "source": [
    "print(f\"HV: {np.mean(hv)} ±({np.std(hv)})\")\n",
    "print(f\"Clicks: {np.mean(clicks)} ±({np.std(clicks)})\")\n",
    "print(f\"Diversity: {np.mean(diversity/100)} ±({np.std(diversity)})\")"
   ]
  },
  {
   "cell_type": "markdown",
   "metadata": {},
   "source": [
    "random -- 2705 -- summary: cum_reward = [21.12  21.132] / cum_boredom = 0.4 / hypervolume =  733.1666666666662\n",
    "random -- 3751 -- summary: cum_reward = [25.92       21.25266667] / cum_boredom = 0.4 / hypervolume =  953.7499999999991\n",
    "random -- 4685 -- summary: cum_reward = [21.64       21.28866667] / cum_boredom = 0.44 / hypervolume =  802.4833333333329\n",
    "random -- 3688 -- summary: cum_reward = [21.76  21.158] / cum_boredom = 0.2 / hypervolume =  756.3333333333327\n",
    "random -- 6383 -- summary: cum_reward = [24.64       21.18133333] / cum_boredom = 1.0 / hypervolume =  1104.749999999999"
   ]
  },
  {
   "cell_type": "code",
   "execution_count": null,
   "metadata": {},
   "outputs": [],
   "source": []
  }
 ],
 "metadata": {
  "kernelspec": {
   "display_name": "Python 3",
   "language": "python",
   "name": "python3"
  },
  "language_info": {
   "codemirror_mode": {
    "name": "ipython",
    "version": 3
   },
   "file_extension": ".py",
   "mimetype": "text/x-python",
   "name": "python",
   "nbconvert_exporter": "python",
   "pygments_lexer": "ipython3",
   "version": "3.10.9"
  }
 },
 "nbformat": 4,
 "nbformat_minor": 2
}
